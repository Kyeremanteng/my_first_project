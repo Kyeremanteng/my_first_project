{
 "cells": [
  {
   "cell_type": "markdown",
   "metadata": {},
   "source": [
    "# Q1\n",
    "Write a program which asks the user for a number. If number is even print ‘Even’, else print ‘Odd’."
   ]
  },
  {
   "cell_type": "code",
   "execution_count": 4,
   "metadata": {},
   "outputs": [
    {
     "name": "stdout",
     "output_type": "stream",
     "text": [
      "enter a number:  5\n",
      "5 odd\n"
     ]
    }
   ],
   "source": [
    "num= int(input(\"enter a number:  \"))\n",
    "if num % 2 == 0:\n",
    " print (f'{num} Even' )\n",
    "else:\n",
    "    print(f'{num} odd')"
   ]
  },
  {
   "cell_type": "markdown",
   "metadata": {},
   "source": [
    "# Q2\n",
    "Write a program to print counting from 1 to 10"
   ]
  },
  {
   "cell_type": "code",
   "execution_count": 6,
   "metadata": {},
   "outputs": [
    {
     "name": "stdout",
     "output_type": "stream",
     "text": [
      "1\n",
      "2\n",
      "3\n",
      "4\n",
      "5\n",
      "6\n",
      "7\n",
      "8\n",
      "9\n",
      "10\n"
     ]
    }
   ],
   "source": [
    "for num in range(1,11):\n",
    "    print(num)"
   ]
  },
  {
   "cell_type": "markdown",
   "metadata": {},
   "source": [
    "# Q3\n",
    "Write a program which prints all the divisors of a number."
   ]
  },
  {
   "cell_type": "code",
   "execution_count": 12,
   "metadata": {},
   "outputs": [
    {
     "name": "stdout",
     "output_type": "stream",
     "text": [
      "please enter an integer: 5\n",
      "the divisors of the 5 are: \n",
      "1\n",
      "5\n"
     ]
    }
   ],
   "source": [
    "number= int(input('please enter an integer: '))\n",
    "print(f'the divisors of the {number} are: ')\n",
    "for i in range(1,number +1):\n",
    "    if number % i == 0:\n",
    "        print(i)\n",
    "    "
   ]
  },
  {
   "cell_type": "markdown",
   "metadata": {},
   "source": [
    "# Q4\n",
    "Write a program to check if input number is a prime number"
   ]
  },
  {
   "cell_type": "code",
   "execution_count": 5,
   "metadata": {},
   "outputs": [
    {
     "name": "stdout",
     "output_type": "stream",
     "text": [
      "Please enter an integer: 5\n",
      "5 is a prime number\n"
     ]
    }
   ],
   "source": [
    "num= int(input('Please enter an integer: '))\n",
    "if num > 1:\n",
    "    for i in range(2,num):\n",
    "        if num %i == 0:\n",
    "            print(f'{num} is not a prime number')\n",
    "            break\n",
    "    else:\n",
    "        print(f'{num} is a prime number')\n",
    "else:\n",
    "    print(f'{num}is not a prime number')"
   ]
  },
  {
   "cell_type": "markdown",
   "metadata": {},
   "source": [
    "# Q5\n",
    "Write a program that prints the numbers from 1 to 20. But for multiples of three print “Fizz” instead of the number and for the multiples of five print “Buzz”. For numbers which are multiples of both three and five print “FizzBuzz”."
   ]
  },
  {
   "cell_type": "code",
   "execution_count": 6,
   "metadata": {},
   "outputs": [
    {
     "name": "stdout",
     "output_type": "stream",
     "text": [
      "1\n",
      "2\n",
      "Fizz\n",
      "4\n",
      "Buzz\n",
      "Fizz\n",
      "7\n",
      "8\n",
      "Fizz\n",
      "Buzz\n",
      "11\n",
      "Fizz\n",
      "13\n",
      "14\n",
      "FizzBuzz\n",
      "16\n",
      "17\n",
      "Fizz\n",
      "19\n",
      "Buzz\n",
      "Fizz\n",
      "22\n"
     ]
    }
   ],
   "source": [
    "for n in range(1,23):\n",
    "    if (n%3)== 0 and (n%5)==0:\n",
    "        print('FizzBuzz')\n",
    "    elif n%3==0:\n",
    "        print('Fizz')\n",
    "    elif(n%5)==0:\n",
    "        print('Buzz')\n",
    "    else:\n",
    "        print(n)"
   ]
  },
  {
   "cell_type": "markdown",
   "metadata": {},
   "source": [
    "# Q6\n",
    "Write a program to print all the numbers between 100 and 150 which are divisible by 7 but are not a multiple of 5"
   ]
  },
  {
   "cell_type": "code",
   "execution_count": 1,
   "metadata": {},
   "outputs": [
    {
     "name": "stdout",
     "output_type": "stream",
     "text": [
      "112\n",
      "119\n",
      "126\n",
      "133\n",
      "147\n"
     ]
    }
   ],
   "source": [
    "for h in range(100,151):\n",
    "    if h % 7 == 0 and not(h%5==0):\n",
    "        print(h)"
   ]
  },
  {
   "cell_type": "markdown",
   "metadata": {},
   "source": [
    "# Q7\n",
    "Write a program to calculate factorial of a number."
   ]
  },
  {
   "cell_type": "code",
   "execution_count": 7,
   "metadata": {},
   "outputs": [
    {
     "name": "stdout",
     "output_type": "stream",
     "text": [
      "Enter an integer: 5\n",
      "120\n"
     ]
    }
   ],
   "source": [
    "y = int(input('Enter an integer: '))\n",
    "factorial=1\n",
    "for fact in range(1, y + 1):\n",
    "    factorial = factorial* fact\n",
    "    \n",
    "print(factorial)"
   ]
  },
  {
   "cell_type": "markdown",
   "metadata": {},
   "source": [
    "# Q8\n",
    "Write a programm that ask for a number to the user and clasifies it as:\n",
    "\n",
    "number <2 SMALL\n",
    "\n",
    "number <10 MEDIUM\n",
    "\n",
    "number rest LARGE"
   ]
  },
  {
   "cell_type": "code",
   "execution_count": 5,
   "metadata": {},
   "outputs": [
    {
     "name": "stdout",
     "output_type": "stream",
     "text": [
      "input a number: 5\n",
      "medium\n"
     ]
    }
   ],
   "source": [
    "c=float(input('input a number: '))\n",
    "if c < 2:\n",
    "    print('small')\n",
    "elif c< 10:\n",
    "    print('medium')\n",
    "else:\n",
    "    print('large')"
   ]
  },
  {
   "cell_type": "markdown",
   "metadata": {},
   "source": [
    "# Q9\n",
    "Write a program to prompt for a score between 0.0 and 1.0. If the core is out of range print an error. If the score is between 0.0 and 1.0, print a grade using the following table:\n",
    "\n",
    "Score Grade\n",
    "\n",
    "= 0.9 A\n",
    "\n",
    "= 0.8 B\n",
    "\n",
    "= 0.7 C\n",
    "\n",
    "= 0.6 D\n",
    "\n",
    "0.6 F"
   ]
  },
  {
   "cell_type": "code",
   "execution_count": 8,
   "metadata": {},
   "outputs": [
    {
     "name": "stdout",
     "output_type": "stream",
     "text": [
      "Enter a score between 0.0 and 1.0: 0.97\n",
      "A\n"
     ]
    }
   ],
   "source": [
    "scores = float(input('Enter a score between 0.0 and 1.0: '))\n",
    "if scores <=1 and scores >=0.9:\n",
    "    print('A')\n",
    "elif scores < 0.9 and scores >= 0.8:\n",
    "    print('B')\n",
    "elif scores < 0.8 and scores >= 0.7:\n",
    "    print('C')\n",
    "elif scores < 0.7 and scores >= 0.6:\n",
    "    print('D')\n",
    "elif scores < 0.6 and scores >= 0.0:\n",
    "    print('F')\n",
    "else:\n",
    "    print('Error')"
   ]
  },
  {
   "cell_type": "markdown",
   "metadata": {},
   "source": [
    "### Q10"
   ]
  },
  {
   "cell_type": "markdown",
   "metadata": {},
   "source": [
    "Write a program to calculate gpa of a score\n",
    "\n",
    "**Hint**\n",
    " - Score > 100 and less than 0  => Error\n",
    " - Score > 80 => 4.0\n",
    " - Score > 70 => 3.0\n",
    " - Score > 60 => 2.0\n",
    " - Score > 50 => 1.0\n",
    " - Score > 0 => 0.0"
   ]
  },
  {
   "cell_type": "code",
   "execution_count": 9,
   "metadata": {},
   "outputs": [
    {
     "name": "stdout",
     "output_type": "stream",
     "text": [
      "Enter a score between 0 and 100: 97\n",
      "4.0\n"
     ]
    }
   ],
   "source": [
    "scores = float(input('Enter a score between 0 and 100: '))\n",
    "if scores <=100 and scores >=80:\n",
    "    print('4.0')\n",
    "elif scores < 80 and scores >= 70:\n",
    "    print('3.0')\n",
    "elif scores < 70 and scores >= 60:\n",
    "    print('2.0')\n",
    "elif scores < 60 and scores >= 50:\n",
    "    print('1.0')\n",
    "elif scores < 50 and scores >= 0:\n",
    "    print('0.0')\n",
    "else:\n",
    "    print('Error')\n"
   ]
  },
  {
   "cell_type": "code",
   "execution_count": null,
   "metadata": {},
   "outputs": [],
   "source": []
  }
 ],
 "metadata": {
  "kernelspec": {
   "display_name": "Python 3 (ipykernel)",
   "language": "python",
   "name": "python3"
  },
  "language_info": {
   "codemirror_mode": {
    "name": "ipython",
    "version": 3
   },
   "file_extension": ".py",
   "mimetype": "text/x-python",
   "name": "python",
   "nbconvert_exporter": "python",
   "pygments_lexer": "ipython3",
   "version": "3.9.12"
  }
 },
 "nbformat": 4,
 "nbformat_minor": 4
}
